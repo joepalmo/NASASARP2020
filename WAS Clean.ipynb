{
 "cells": [
  {
   "cell_type": "code",
   "execution_count": 1,
   "metadata": {},
   "outputs": [],
   "source": [
    "import numpy as np\n",
    "import pandas as pd\n",
    "import matplotlib.pyplot as plt\n",
    "%matplotlib inline\n",
    "import scipy.stats as st\n",
    "import seaborn as sb\n",
    "\n",
    "pd.set_option('display.max_columns', None)\n",
    "pd.set_option('display.max_rows', None)"
   ]
  },
  {
   "cell_type": "code",
   "execution_count": 2,
   "metadata": {},
   "outputs": [],
   "source": [
    "full = pd.read_csv(\"SARP WAS 2009-2019.csv\", usecols = range(124), nrows = 3136)"
   ]
  },
  {
   "cell_type": "code",
   "execution_count": 3,
   "metadata": {},
   "outputs": [
    {
     "name": "stdout",
     "output_type": "stream",
     "text": [
      "Snake#\n",
      "Can#\n",
      "Flight\n",
      "Jday\n",
      "date\n",
      "OpenTime\n",
      "CloseTime\n",
      "Julian Open Time\n",
      "Julian Closing Time\n",
      "Jopen time Progressive\n",
      "J close time Progressive\n",
      "Latitude\n",
      "Longitude\n",
      "AltP_feet\n",
      "AltP_meters\n",
      "Radaralt_ft\n",
      "Radaralt_m\n",
      "SARP Year\n",
      "Weather\n",
      "Comments\n",
      "H2 (ppbv)mult by 1.6\n",
      "CH4 (ppmv)\n",
      "CO (ppbv)\n",
      "CO2_ppm\n",
      "OCS (MS)\n",
      "DMS (MS)\n",
      "CFC-12 (C/D)\n",
      "CFC-11 (C/D)\n",
      "CFC-113 (D)\n",
      "CFC-114 (C/MS)\n",
      "H-1211 (C/D)\n",
      "H-1301 (C)\n",
      "H-2402 (D)\n",
      "HFC-152a (MS)\n",
      "HFC-134a (MS)\n",
      "HCFC-22 (MS)\n",
      "HCFC-142b\n",
      "HCFC-141b (MS)\n",
      "HFC-227ea (MS)\n",
      "HCFC-124 (MS)\n",
      "HFC-365mfc (MS)\n",
      "CHCl3 (C/D)\n",
      "CH3CCl3 (C/MS)\n",
      "CCl4 (C/MS)\n",
      "CH2Cl2 (C/D/MS)\n",
      "C2HCl3 (D/MS)\n",
      "C2Cl4 (C/MS)\n",
      "CH3Cl (MS)\n",
      "CH3Br (C/MS)\n",
      "CH3I (C/D)\n",
      "CH2Br2 (D)\n",
      "CHBrCl2 (D)\n",
      "CHBr2Cl (D)\n",
      "CHBr3 (C/MS)\n",
      "1,2-DCE (MS)\n",
      "MeONO2 (C/D)\n",
      "EtONO2 (C/D)\n",
      "i-PrONO2 (D)\n",
      "n-PrONO2 (C)\n",
      "2-BuONO2 (D)\n",
      "3-PeONO2 (D)\n",
      "2-PeONO2 (D)\n",
      "3-Methyl-2-BuONO2 (D)\n",
      "Ethane (E)\n",
      "Ethene (E)\n",
      "Ethyne (E)\n",
      "Propane (E/B)\n",
      "Propene (E)\n",
      "i-Butane (E)\n",
      "n-Butane (E)\n",
      "i-Butene (E)\n",
      "1-Butene (E)\n",
      "trans-2-Butene (MS)\n",
      "cis-2-Butene (MS)\n",
      "i-Pentane (E)\n",
      "n-Pentane (E)\n",
      "1-Pentene\n",
      "Isoprene (E/B)\n",
      "1,3-Butadiene (B)\n",
      "n-Hexane (E)\n",
      "n-Heptane (E)\n",
      "n-Octane (B)\n",
      "n-Nonane (B)\n",
      "n-Decane (B)\n",
      "2,2-Dimethylbutane (B)\n",
      "2,3-Dimethylbutane (MS)\n",
      "2-Methylpentane (MS)\n",
      "3-Methylpentane (MS)\n",
      "2-Methylhexane (B)\n",
      "3-Methylhexane (B)\n",
      "2,3-Dimethylpentane (B)\n",
      "2,4-Dimethylpentane (B)\n",
      "2-Methylheptane (B)\n",
      "3-Methylheptane (B)\n",
      "2,2,4-Trimethylpentane (B)\n",
      "Cyclopentane (B)\n",
      "Methylcyclopentane (B)\n",
      "Cyclohexane (B)\n",
      "Methylcylohexane (B)\n",
      "Benzene (E/MS)\n",
      "Toluene (B)\n",
      "Ethylbenzene (MS)\n",
      "m-Xylene (MS)\n",
      "p-Xylene (MS)\n",
      "m/p-Xylene (MS)\n",
      "o-Xylene (MS)\n",
      "Styrene (MS)\n",
      "i-Propylbenzene (MS)\n",
      "n-Propylbenzene (MS)\n",
      "3-Ethyltoluene (MS)\n",
      "4-Ethyltoluene (MS)\n",
      "2-Ethyltoluene (MS)\n",
      "1,3,5-Trimethylbenzene (MS)\n",
      "1,2,4-Trimethylbenzene (MS)\n",
      "1,2,3-Trimethylbenzene (MS)\n",
      "alpha-Pinene (MS)\n",
      "beta-Pinene (MS)\n",
      "EtCl (MS)\n",
      "Acetaldehyde (MS)\n",
      "Butanal (MS)\n",
      "Acetone (MS)\n",
      "Butanone (MS)\n",
      "Methanol (MS)\n",
      "Ethanol (MS)\n"
     ]
    }
   ],
   "source": [
    "for i in full.keys():\n",
    "    print(i)"
   ]
  },
  {
   "cell_type": "code",
   "execution_count": 4,
   "metadata": {},
   "outputs": [],
   "source": [
    "import scipy.optimize as optimization\n",
    "from scipy.stats import pearsonr "
   ]
  },
  {
   "cell_type": "code",
   "execution_count": 5,
   "metadata": {},
   "outputs": [],
   "source": [
    "#define function used to fit line to data\n",
    "def slopeintfunc(x,s1,incpt):\n",
    "    return s1*x+incpt"
   ]
  },
  {
   "cell_type": "code",
   "execution_count": 7,
   "metadata": {},
   "outputs": [],
   "source": [
    "def scatter1(x, y, s='', c='', bestfit = \"no\", year = 0):\n",
    "    '''\n",
    "    This function will create a scatterplot of two variables, x and y. \n",
    "    To make a colormap of another variable, set c = columnname.\n",
    "    To make point size correspond to another variable, set s = columnname. \n",
    "    To add a line of best fit for the xaxis and yaxis variables, set bestfit = \"yes\".\n",
    "    '''\n",
    "    if year > 0:\n",
    "        df = full['SARP Year'].astype(int) == year\n",
    "        data = full[df]\n",
    "        years = \" in the year \"+ str(year)\n",
    "    else:\n",
    "        data = full\n",
    "        years = \"\"\n",
    "    xaxis = data[x]\n",
    "    yaxis = data[y]\n",
    "    if c != '':\n",
    "        coloraxis = data[c]\n",
    "    else:\n",
    "        coloraxis = None\n",
    "    if s != '':\n",
    "        sizeaxis = (data[s]/(data[s].max()))*400\n",
    "    else:\n",
    "        sizeaxis = None\n",
    "    \n",
    "    plt.scatter(xaxis, yaxis, s = sizeaxis, c = coloraxis, cmap = 'plasma')\n",
    "    if c != '':\n",
    "        plt.colorbar(label = str(c))\n",
    "    plt.title(str(y)+\" vs \"+str(x)+\" with color representing \"+str(c)+ \" and size representing \"+str(s)+years)\n",
    "    plt.xlabel(str(x))\n",
    "    plt.ylabel(str(y))\n",
    "    \n",
    "    if bestfit == \"yes\":\n",
    "        cleany = yaxis[(np.isnan(data[y])==False) & (np.isnan(data[x])==False)]\n",
    "        cleanx = xaxis[(np.isnan(data[y])==False) & (np.isnan(data[x])==False)]\n",
    "        best = optimization.curve_fit(slopeintfunc, cleanx, cleany)\n",
    "        print(\"slope, int =\",best[0])\n",
    "        print(\"(R (correleation coefficient), p-value) =\",pearsonr(cleanx, cleany))\n",
    "        if c == '':\n",
    "            plt.plot(cleanx, slopeintfunc(cleanx, best[0][0], best[0][1]), color = \"salmon\")\n",
    "        else:\n",
    "            plt.plot(cleanx, slopeintfunc(cleanx, best[0][0], best[0][1]), color = \"cornflowerblue\")"
   ]
  },
  {
   "cell_type": "markdown",
   "metadata": {},
   "source": [
    "Use scatter1 to create some pretty scatterplots. Inputs are the column name, copy and paste from the above keys output box. \n",
    "Optional parameter s = 'columnname' ---> variable corresponds to size of point\n",
    "Optional parameter c = 'columnname' ---> variable corresponds to color of point\n",
    "Optional parameter bestfit = \"yes\" ---> bestfit line for x and y variables\n",
    "Optional parameter year = ___ ---> if you want to constrain the data to a single year\n",
    "\n",
    "Example below with all inputs / dimensions used:"
   ]
  },
  {
   "cell_type": "code",
   "execution_count": 18,
   "metadata": {},
   "outputs": [
    {
     "data": {
      "image/png": "[encoded data removed]",
      "text/plain": [
       "<Figure size 432x288 with 2 Axes>"
      ]
     },
     "metadata": {},
     "output_type": "display_data"
    }
   ],
   "source": [
    "scatter1('AltP_feet', 'CO (ppbv)', s='Ethane (E)', c='MeONO2 (C/D)', year = 2017)"
   ]
  },
  {
   "cell_type": "code",
   "execution_count": null,
   "metadata": {},
   "outputs": [],
   "source": []
  }
 ],
 "metadata": {
  "kernelspec": {
   "display_name": "Python 3",
   "language": "python",
   "name": "python3"
  },
  "language_info": {
   "codemirror_mode": {
    "name": "ipython",
    "version": 3
   },
   "file_extension": ".py",
   "mimetype": "text/x-python",
   "name": "python",
   "nbconvert_exporter": "python",
   "pygments_lexer": "ipython3",
   "version": "3.6.8"
  }
 },
 "nbformat": 4,
 "nbformat_minor": 2
}
